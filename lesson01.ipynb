{
  "nbformat": 4,
  "nbformat_minor": 0,
  "metadata": {
    "colab": {
      "name": "Untitled0.ipynb",
      "provenance": [],
      "authorship_tag": "ABX9TyOfqGwk1UJjOww9DJnfjFRp",
      "include_colab_link": true
    },
    "kernelspec": {
      "name": "python3",
      "display_name": "Python 3"
    },
    "language_info": {
      "name": "python"
    }
  },
  "cells": [
    {
      "cell_type": "markdown",
      "metadata": {
        "id": "view-in-github",
        "colab_type": "text"
      },
      "source": [
        "<a href=\"https://colab.research.google.com/github/imotorin/docker-curriculum/blob/master/lesson01.ipynb\" target=\"_parent\"><img src=\"https://colab.research.google.com/assets/colab-badge.svg\" alt=\"Open In Colab\"/></a>"
      ]
    },
    {
      "cell_type": "code",
      "execution_count": 3,
      "metadata": {
        "colab": {
          "base_uri": "https://localhost:8080/"
        },
        "id": "vTfL2mH5MAbl",
        "outputId": "eec006ea-13f3-4040-b3e4-47374ba39966"
      },
      "outputs": [
        {
          "output_type": "stream",
          "name": "stdout",
          "text": [
            "Webinar знакомимся с питоном\n"
          ]
        }
      ],
      "source": [
        "speaker = \"миша\"\n",
        "duration = 130\n",
        "title = \"знакомимся с питоном\"\n",
        "\n",
        "print (f\"Webinar {title}\")"
      ]
    },
    {
      "cell_type": "code",
      "source": [
        ""
      ],
      "metadata": {
        "id": "gnrwrZhxM_nN"
      },
      "execution_count": null,
      "outputs": []
    }
  ]
}